{
 "metadata": {
  "language_info": {
   "codemirror_mode": {
    "name": "ipython",
    "version": 3
   },
   "file_extension": ".py",
   "mimetype": "text/x-python",
   "name": "python",
   "nbconvert_exporter": "python",
   "pygments_lexer": "ipython3",
   "version": "3.6.10-final"
  },
  "orig_nbformat": 2,
  "kernelspec": {
   "name": "python361064bitpythondataconda8cb20f4cf04f470fa256b7902842b8c4",
   "display_name": "Python 3.6.10 64-bit ('PythonData': conda)"
  }
 },
 "nbformat": 4,
 "nbformat_minor": 2,
 "cells": [
  {
   "cell_type": "code",
   "execution_count": 153,
   "metadata": {},
   "outputs": [],
   "source": [
    "#Heroes of Pymoli\n",
    "import pandas as pd\n",
    "import numpy as np"
   ]
  },
  {
   "cell_type": "code",
   "execution_count": 154,
   "metadata": {},
   "outputs": [
    {
     "output_type": "execute_result",
     "data": {
      "text/plain": "   Purchase ID             SN  Age Gender  Item ID  \\\n0            0        Lisim78   20   Male      108   \n1            1    Lisovynya38   40   Male      143   \n2            2     Ithergue48   24   Male       92   \n3            3  Chamassasya86   24   Male      100   \n4            4      Iskosia90   23   Male      131   \n\n                                   Item Name  Price  \n0  Extraction, Quickblade Of Trembling Hands   3.53  \n1                          Frenzied Scimitar   1.56  \n2                               Final Critic   4.88  \n3                                Blindscythe   3.27  \n4                                       Fury   1.44  ",
      "text/html": "<div>\n<style scoped>\n    .dataframe tbody tr th:only-of-type {\n        vertical-align: middle;\n    }\n\n    .dataframe tbody tr th {\n        vertical-align: top;\n    }\n\n    .dataframe thead th {\n        text-align: right;\n    }\n</style>\n<table border=\"1\" class=\"dataframe\">\n  <thead>\n    <tr style=\"text-align: right;\">\n      <th></th>\n      <th>Purchase ID</th>\n      <th>SN</th>\n      <th>Age</th>\n      <th>Gender</th>\n      <th>Item ID</th>\n      <th>Item Name</th>\n      <th>Price</th>\n    </tr>\n  </thead>\n  <tbody>\n    <tr>\n      <th>0</th>\n      <td>0</td>\n      <td>Lisim78</td>\n      <td>20</td>\n      <td>Male</td>\n      <td>108</td>\n      <td>Extraction, Quickblade Of Trembling Hands</td>\n      <td>3.53</td>\n    </tr>\n    <tr>\n      <th>1</th>\n      <td>1</td>\n      <td>Lisovynya38</td>\n      <td>40</td>\n      <td>Male</td>\n      <td>143</td>\n      <td>Frenzied Scimitar</td>\n      <td>1.56</td>\n    </tr>\n    <tr>\n      <th>2</th>\n      <td>2</td>\n      <td>Ithergue48</td>\n      <td>24</td>\n      <td>Male</td>\n      <td>92</td>\n      <td>Final Critic</td>\n      <td>4.88</td>\n    </tr>\n    <tr>\n      <th>3</th>\n      <td>3</td>\n      <td>Chamassasya86</td>\n      <td>24</td>\n      <td>Male</td>\n      <td>100</td>\n      <td>Blindscythe</td>\n      <td>3.27</td>\n    </tr>\n    <tr>\n      <th>4</th>\n      <td>4</td>\n      <td>Iskosia90</td>\n      <td>23</td>\n      <td>Male</td>\n      <td>131</td>\n      <td>Fury</td>\n      <td>1.44</td>\n    </tr>\n  </tbody>\n</table>\n</div>"
     },
     "metadata": {},
     "execution_count": 154
    }
   ],
   "source": [
    "#bring in csv file\n",
    "file = \"Resources/purchase_data.csv\"\n",
    "# Read our Kickstarter data into pandas\n",
    "purchase_data_df = pd.read_csv(file)\n",
    "purchase_data_df.head()\n"
   ]
  },
  {
   "cell_type": "code",
   "execution_count": 155,
   "metadata": {
    "tags": []
   },
   "outputs": [
    {
     "output_type": "execute_result",
     "data": {
      "text/plain": "SN\nAdairialis76     1\nAdastirin33      1\nAeda94           1\nAela59           1\nAelaria33        1\n                ..\nYathecal82       1\nYathedeu43       1\nYoishirrala98    1\nZhisrisu83       1\nZontibe81        1\nName: SN, Length: 576, dtype: int64"
     },
     "metadata": {},
     "execution_count": 155
    }
   ],
   "source": [
    "#Players Count: Total Number of Unique Players\n",
    "total_players = purchase_data_df.groupby('SN')['SN'].nunique()\n",
    "total_players\n",
    "\n",
    "\n"
   ]
  },
  {
   "cell_type": "code",
   "execution_count": 156,
   "metadata": {},
   "outputs": [
    {
     "output_type": "execute_result",
     "data": {
      "text/plain": "Item ID\n0      1\n1      1\n2      1\n3      1\n4      1\n      ..\n178    1\n179    1\n181    1\n182    1\n183    1\nName: Item ID, Length: 179, dtype: int64"
     },
     "metadata": {},
     "execution_count": 156
    }
   ],
   "source": [
    "#Purchasing Analysis (Total): Number of Unique Items, Average Purchase Price, Total Number of Purchases, and Total Revenue\n",
    "#Calculate Unique Number of Items\n",
    "unique_count = purchase_data_df.groupby('Item ID')['Item ID'].nunique()\n",
    "unique_count"
   ]
  },
  {
   "cell_type": "code",
   "execution_count": 157,
   "metadata": {
    "tags": []
   },
   "outputs": [
    {
     "output_type": "stream",
     "name": "stdout",
     "text": "179\n3.050987179487176\n"
    }
   ],
   "source": [
    "#Calculate Average Purchase Price\n",
    "uniquepricecount = len(purchase_data_df[\"Item Name\"].unique())\n",
    "print(uniquepricecount)\n",
    "avguniqueprice = purchase_data_df[\"Price\"].mean()\n",
    "print(avguniqueprice)\n",
    "\n",
    "\n",
    "\n",
    "\n",
    "\n",
    "\n",
    "\n"
   ]
  },
  {
   "cell_type": "code",
   "execution_count": 158,
   "metadata": {
    "tags": []
   },
   "outputs": [
    {
     "output_type": "stream",
     "name": "stdout",
     "text": "780\n2379.77\n"
    }
   ],
   "source": [
    "#Calculate Total Number of Purchases, Total Revenue\n",
    "totalpurchases = purchase_data_df['Purchase ID'].count()\n",
    "print (totalpurchases)\n",
    "totalrevenue = purchase_data_df['Price'].sum()\n",
    "print (totalrevenue)\n"
   ]
  },
  {
   "cell_type": "code",
   "execution_count": 159,
   "metadata": {
    "tags": []
   },
   "outputs": [
    {
     "output_type": "execute_result",
     "data": {
      "text/plain": "        Count  Percentage\nMale    484.0    0.840278\nFemale   81.0    0.140625\nOther    11.0    0.019097",
      "text/html": "<div>\n<style scoped>\n    .dataframe tbody tr th:only-of-type {\n        vertical-align: middle;\n    }\n\n    .dataframe tbody tr th {\n        vertical-align: top;\n    }\n\n    .dataframe thead th {\n        text-align: right;\n    }\n</style>\n<table border=\"1\" class=\"dataframe\">\n  <thead>\n    <tr style=\"text-align: right;\">\n      <th></th>\n      <th>Count</th>\n      <th>Percentage</th>\n    </tr>\n  </thead>\n  <tbody>\n    <tr>\n      <th>Male</th>\n      <td>484.0</td>\n      <td>0.840278</td>\n    </tr>\n    <tr>\n      <th>Female</th>\n      <td>81.0</td>\n      <td>0.140625</td>\n    </tr>\n    <tr>\n      <th>Other</th>\n      <td>11.0</td>\n      <td>0.019097</td>\n    </tr>\n  </tbody>\n</table>\n</div>"
     },
     "metadata": {},
     "execution_count": 159
    }
   ],
   "source": [
    "#Gender Demographics\n",
    "#Calculate Count and Percentage of Total by Gender\n",
    "#totalplayers is already calculated\n",
    "total_gender_df = purchase_data_df[[\"SN\",\"Gender\"]]\n",
    "total_gender_df\n",
    "total_gender_df = total_gender_df.drop_duplicates(subset = [\"SN\"])\n",
    "totalgendercount = total_gender_df['SN'].count()\n",
    "malecount = total_gender_df[total_gender_df[\"Gender\"]=='Male'].count()[\"SN\"]\n",
    "femalecount = total_gender_df[total_gender_df[\"Gender\"]=='Female'].count()[\"SN\"]\n",
    "othercount = totalgendercount - malecount - femalecount\n",
    "count = (malecount,femalecount,othercount)\n",
    "malepercentage = malecount / totalgendercount\n",
    "femalepercentage = femalecount / totalgendercount\n",
    "otherpercentage = 1 - (malepercentage + femalepercentage)\n",
    "percentage = (malepercentage,femalepercentage,otherpercentage)\n",
    "#Create Gender Summary dataframe, transposed\n",
    "gendersummary_df = pd.DataFrame([count,percentage],index=['Count','Percentage'],columns=['Male','Female','Other']).T\n",
    "gendersummary_df\n",
    "\n",
    "\n",
    "\n",
    "\n",
    "\n",
    "\n",
    "\n",
    "\n",
    "\n"
   ]
  },
  {
   "cell_type": "code",
   "execution_count": 160,
   "metadata": {
    "tags": []
   },
   "outputs": [
    {
     "output_type": "execute_result",
     "data": {
      "text/plain": "<pandas.io.formats.style.Styler at 0x1a1f0fdd0f0>",
      "text/html": "<style  type=\"text/css\" >\n</style><table id=\"T_c0e22874_e417_11ea_830e_c03eba874a93\" ><thead>    <tr>        <th class=\"blank level0\" ></th>        <th class=\"col_heading level0 col0\" >Purchase Count</th>        <th class=\"col_heading level0 col1\" >Average Purchase Price</th>        <th class=\"col_heading level0 col2\" >Total Purchase Value</th>        <th class=\"col_heading level0 col3\" >Avg Purchase Total per Person by Gender</th>    </tr>    <tr>        <th class=\"index_name level0\" >Category</th>        <th class=\"blank\" ></th>        <th class=\"blank\" ></th>        <th class=\"blank\" ></th>        <th class=\"blank\" ></th>    </tr></thead><tbody>\n                <tr>\n                        <th id=\"T_c0e22874_e417_11ea_830e_c03eba874a93level0_row0\" class=\"row_heading level0 row0\" >Male</th>\n                        <td id=\"T_c0e22874_e417_11ea_830e_c03eba874a93row0_col0\" class=\"data row0 col0\" >484</td>\n                        <td id=\"T_c0e22874_e417_11ea_830e_c03eba874a93row0_col1\" class=\"data row0 col1\" >$3.02</td>\n                        <td id=\"T_c0e22874_e417_11ea_830e_c03eba874a93row0_col2\" class=\"data row0 col2\" >$1967.64</td>\n                        <td id=\"T_c0e22874_e417_11ea_830e_c03eba874a93row0_col3\" class=\"data row0 col3\" >$4.07</td>\n            </tr>\n            <tr>\n                        <th id=\"T_c0e22874_e417_11ea_830e_c03eba874a93level0_row1\" class=\"row_heading level0 row1\" >Female</th>\n                        <td id=\"T_c0e22874_e417_11ea_830e_c03eba874a93row1_col0\" class=\"data row1 col0\" >81</td>\n                        <td id=\"T_c0e22874_e417_11ea_830e_c03eba874a93row1_col1\" class=\"data row1 col1\" >$3.20</td>\n                        <td id=\"T_c0e22874_e417_11ea_830e_c03eba874a93row1_col2\" class=\"data row1 col2\" >$361.94</td>\n                        <td id=\"T_c0e22874_e417_11ea_830e_c03eba874a93row1_col3\" class=\"data row1 col3\" >$4.47</td>\n            </tr>\n            <tr>\n                        <th id=\"T_c0e22874_e417_11ea_830e_c03eba874a93level0_row2\" class=\"row_heading level0 row2\" >Other/Non-Disclosed</th>\n                        <td id=\"T_c0e22874_e417_11ea_830e_c03eba874a93row2_col0\" class=\"data row2 col0\" >11</td>\n                        <td id=\"T_c0e22874_e417_11ea_830e_c03eba874a93row2_col1\" class=\"data row2 col1\" >$3.35</td>\n                        <td id=\"T_c0e22874_e417_11ea_830e_c03eba874a93row2_col2\" class=\"data row2 col2\" >$50.19</td>\n                        <td id=\"T_c0e22874_e417_11ea_830e_c03eba874a93row2_col3\" class=\"data row2 col3\" >$4.56</td>\n            </tr>\n    </tbody></table>"
     },
     "metadata": {},
     "execution_count": 160
    }
   ],
   "source": [
    "#Calculate the Gender Purchasing Metrics (Purchase Count, Avg Purchase Price, Total Purchases, &\n",
    "#Average Purchase Total per Person by Gender).\n",
    "avgpurchase = purchase_data_df.loc[purchase_data_df[\"Gender\"]==\"Male\"]\n",
    "avgpurchasemale = avgpurchase[\"Price\"].mean()\n",
    "totalpurchasemale = avgpurchase[\"Price\"].sum()\n",
    "\n",
    "avgpurchase = purchase_data_df.loc[purchase_data_df[\"Gender\"]==\"Female\"]\n",
    "avgpurchasefemale = avgpurchase[\"Price\"].mean()\n",
    "totalpurchasefemale = avgpurchase[\"Price\"].sum()\n",
    "\n",
    "avgpurchase = purchase_data_df.loc[purchase_data_df[\"Gender\"]==\"Other / Non-Disclosed\"]\n",
    "avgpurchaseother = avgpurchase[\"Price\"].mean()\n",
    "totalpurchaseother = avgpurchase[\"Price\"].sum()\n",
    "#Build dataframe and summary table for Purchase Analysis by Gender\n",
    "gender_pur_summary_df = pd.DataFrame({\"Purchase Count\": [malecount,femalecount,othercount],\"Average Purchase Price\": [avgpurchasemale,avgpurchasefemale,avgpurchaseother],\"Total Purchase Value\": [totalpurchasemale,totalpurchasefemale,totalpurchaseother],\"Avg Purchase Total per Person by Gender\":[totalpurchasemale/malecount,totalpurchasefemale/femalecount,totalpurchaseother/othercount],\"Category\":[\"Male\", \"Female\", \"Other/Non-Disclosed\"]})\n",
    "#Format and arrange Columns.  Convert numbers to Currency\n",
    "genderpur_final_df = gender_pur_summary_df.set_index(\"Category\")\n",
    "gender_pur_summary_df = gender_pur_summary_df[[\"Purchase Count\",\"Average Purchase Price\",\"Total Purchase Value\",\"Avg Purchase Total per Person by Gender\"]]\n",
    "genderpur_final_df.style.format({\"Average Purchase Price\":\"${:.2f}\",\"Total Purchase Value\":\"${:.2f}\",\"Avg Purchase Total per Person by Gender\":\"${:.2f}\"})\n"
   ]
  },
  {
   "cell_type": "code",
   "execution_count": null,
   "metadata": {},
   "outputs": [],
   "source": []
  }
 ]
}