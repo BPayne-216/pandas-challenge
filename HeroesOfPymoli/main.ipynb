{
 "metadata": {
  "language_info": {
   "codemirror_mode": {
    "name": "ipython",
    "version": 3
   },
   "file_extension": ".py",
   "mimetype": "text/x-python",
   "name": "python",
   "nbconvert_exporter": "python",
   "pygments_lexer": "ipython3",
   "version": "3.6.10-final"
  },
  "orig_nbformat": 2,
  "kernelspec": {
   "name": "python361064bitpythondataconda8cb20f4cf04f470fa256b7902842b8c4",
   "display_name": "Python 3.6.10 64-bit ('PythonData': conda)"
  }
 },
 "nbformat": 4,
 "nbformat_minor": 2,
 "cells": [
  {
   "cell_type": "code",
   "execution_count": 2,
   "metadata": {},
   "outputs": [],
   "source": [
    "#Heroes of Pymoli\n",
    "import pandas as pd\n",
    "import numpy as np"
   ]
  },
  {
   "cell_type": "code",
   "execution_count": 3,
   "metadata": {},
   "outputs": [
    {
     "output_type": "execute_result",
     "data": {
      "text/plain": "   Purchase ID             SN  Age Gender  Item ID  \\\n0            0        Lisim78   20   Male      108   \n1            1    Lisovynya38   40   Male      143   \n2            2     Ithergue48   24   Male       92   \n3            3  Chamassasya86   24   Male      100   \n4            4      Iskosia90   23   Male      131   \n\n                                   Item Name  Price  \n0  Extraction, Quickblade Of Trembling Hands   3.53  \n1                          Frenzied Scimitar   1.56  \n2                               Final Critic   4.88  \n3                                Blindscythe   3.27  \n4                                       Fury   1.44  ",
      "text/html": "<div>\n<style scoped>\n    .dataframe tbody tr th:only-of-type {\n        vertical-align: middle;\n    }\n\n    .dataframe tbody tr th {\n        vertical-align: top;\n    }\n\n    .dataframe thead th {\n        text-align: right;\n    }\n</style>\n<table border=\"1\" class=\"dataframe\">\n  <thead>\n    <tr style=\"text-align: right;\">\n      <th></th>\n      <th>Purchase ID</th>\n      <th>SN</th>\n      <th>Age</th>\n      <th>Gender</th>\n      <th>Item ID</th>\n      <th>Item Name</th>\n      <th>Price</th>\n    </tr>\n  </thead>\n  <tbody>\n    <tr>\n      <th>0</th>\n      <td>0</td>\n      <td>Lisim78</td>\n      <td>20</td>\n      <td>Male</td>\n      <td>108</td>\n      <td>Extraction, Quickblade Of Trembling Hands</td>\n      <td>3.53</td>\n    </tr>\n    <tr>\n      <th>1</th>\n      <td>1</td>\n      <td>Lisovynya38</td>\n      <td>40</td>\n      <td>Male</td>\n      <td>143</td>\n      <td>Frenzied Scimitar</td>\n      <td>1.56</td>\n    </tr>\n    <tr>\n      <th>2</th>\n      <td>2</td>\n      <td>Ithergue48</td>\n      <td>24</td>\n      <td>Male</td>\n      <td>92</td>\n      <td>Final Critic</td>\n      <td>4.88</td>\n    </tr>\n    <tr>\n      <th>3</th>\n      <td>3</td>\n      <td>Chamassasya86</td>\n      <td>24</td>\n      <td>Male</td>\n      <td>100</td>\n      <td>Blindscythe</td>\n      <td>3.27</td>\n    </tr>\n    <tr>\n      <th>4</th>\n      <td>4</td>\n      <td>Iskosia90</td>\n      <td>23</td>\n      <td>Male</td>\n      <td>131</td>\n      <td>Fury</td>\n      <td>1.44</td>\n    </tr>\n  </tbody>\n</table>\n</div>"
     },
     "metadata": {},
     "execution_count": 3
    }
   ],
   "source": [
    "#bring in csv file\n",
    "file = \"Resources/purchase_data.csv\"\n",
    "# Read our Kickstarter data into pandas\n",
    "purchase_data_df = pd.read_csv(file)\n",
    "purchase_data_df.head()\n"
   ]
  },
  {
   "cell_type": "code",
   "execution_count": 4,
   "metadata": {
    "tags": []
   },
   "outputs": [
    {
     "output_type": "execute_result",
     "data": {
      "text/plain": "   Total Unique Players\n0                   576",
      "text/html": "<div>\n<style scoped>\n    .dataframe tbody tr th:only-of-type {\n        vertical-align: middle;\n    }\n\n    .dataframe tbody tr th {\n        vertical-align: top;\n    }\n\n    .dataframe thead th {\n        text-align: right;\n    }\n</style>\n<table border=\"1\" class=\"dataframe\">\n  <thead>\n    <tr style=\"text-align: right;\">\n      <th></th>\n      <th>Total Unique Players</th>\n    </tr>\n  </thead>\n  <tbody>\n    <tr>\n      <th>0</th>\n      <td>576</td>\n    </tr>\n  </tbody>\n</table>\n</div>"
     },
     "metadata": {},
     "execution_count": 4
    }
   ],
   "source": [
    "#Players Count: Total Number of Unique Players\n",
    "total_players = purchase_data_df.groupby('SN')['SN'].nunique()\n",
    "ttlplayers = total_players.sum()\n",
    "ttlplayers_df = pd.DataFrame({\"Total Unique Players\":[ttlplayers]})\n",
    "ttlplayers_df\n"
   ]
  },
  {
   "cell_type": "code",
   "execution_count": 5,
   "metadata": {},
   "outputs": [
    {
     "output_type": "execute_result",
     "data": {
      "text/plain": "   Unique Items\n0           179",
      "text/html": "<div>\n<style scoped>\n    .dataframe tbody tr th:only-of-type {\n        vertical-align: middle;\n    }\n\n    .dataframe tbody tr th {\n        vertical-align: top;\n    }\n\n    .dataframe thead th {\n        text-align: right;\n    }\n</style>\n<table border=\"1\" class=\"dataframe\">\n  <thead>\n    <tr style=\"text-align: right;\">\n      <th></th>\n      <th>Unique Items</th>\n    </tr>\n  </thead>\n  <tbody>\n    <tr>\n      <th>0</th>\n      <td>179</td>\n    </tr>\n  </tbody>\n</table>\n</div>"
     },
     "metadata": {},
     "execution_count": 5
    }
   ],
   "source": [
    "#Purchasing Analysis (Total): Number of Unique Items, Average Purchase Price, Total Number of Purchases, and Total Revenue\n",
    "#Calculate Unique Number of Items\n",
    "unique_count = purchase_data_df.groupby('Item ID')['Item ID'].nunique()\n",
    "unique_count_ttl = unique_count.count()\n",
    "uniqueitemsttl_df = pd.DataFrame({\"Unique Items\":[unique_count_ttl]})\n",
    "uniqueitemsttl_df"
   ]
  },
  {
   "cell_type": "code",
   "execution_count": 6,
   "metadata": {
    "tags": []
   },
   "outputs": [
    {
     "output_type": "execute_result",
     "data": {
      "text/plain": "<pandas.io.formats.style.Styler at 0x19db80b3dd8>",
      "text/html": "<style  type=\"text/css\" >\n</style><table id=\"T_34b53fb6_e4a9_11ea_be45_c03eba874a93\" ><thead>    <tr>        <th class=\"blank level0\" ></th>        <th class=\"col_heading level0 col0\" >Average Purchase Price</th>    </tr></thead><tbody>\n                <tr>\n                        <th id=\"T_34b53fb6_e4a9_11ea_be45_c03eba874a93level0_row0\" class=\"row_heading level0 row0\" >0</th>\n                        <td id=\"T_34b53fb6_e4a9_11ea_be45_c03eba874a93row0_col0\" class=\"data row0 col0\" >$3.05</td>\n            </tr>\n    </tbody></table>"
     },
     "metadata": {},
     "execution_count": 6
    }
   ],
   "source": [
    "#Calculate Average Purchase Price\n",
    "uniquepricecount = len(purchase_data_df[\"Item Name\"].unique())\n",
    "avguniqueprice = purchase_data_df[\"Price\"].mean()\n",
    "avgpsummary_df = pd.DataFrame({\"Average Purchase Price\":[avguniqueprice]})\n",
    "avgpsummary_df\n",
    "avgpsummary_df.style.format({\"Average Purchase Price\":\"${:.2f}\"})\n",
    "\n"
   ]
  },
  {
   "cell_type": "code",
   "execution_count": 16,
   "metadata": {
    "tags": []
   },
   "outputs": [
    {
     "output_type": "execute_result",
     "data": {
      "text/plain": "<pandas.io.formats.style.Styler at 0x19db90d4c18>",
      "text/html": "<style  type=\"text/css\" >\n</style><table id=\"T_56a46cd8_e4a9_11ea_a4e3_c03eba874a93\" ><thead>    <tr>        <th class=\"blank level0\" ></th>        <th class=\"col_heading level0 col0\" >Total Purchases</th>        <th class=\"col_heading level0 col1\" >Total Revenue</th>    </tr></thead><tbody>\n                <tr>\n                        <th id=\"T_56a46cd8_e4a9_11ea_a4e3_c03eba874a93level0_row0\" class=\"row_heading level0 row0\" >0</th>\n                        <td id=\"T_56a46cd8_e4a9_11ea_a4e3_c03eba874a93row0_col0\" class=\"data row0 col0\" >780</td>\n                        <td id=\"T_56a46cd8_e4a9_11ea_a4e3_c03eba874a93row0_col1\" class=\"data row0 col1\" >$2379.77</td>\n            </tr>\n    </tbody></table>"
     },
     "metadata": {},
     "execution_count": 16
    }
   ],
   "source": [
    "#Calculate Total Number of Purchases, Total Revenue\n",
    "totalpurchases = purchase_data_df['Purchase ID'].count()\n",
    "totalrevenue = purchase_data_df['Price'].sum()\n",
    "totals_df = pd.DataFrame({\"Total Purchases\":[totalpurchases],\"Total Revenue\":[totalrevenue]})\n",
    "totals_df\n",
    "totals_df.style.format({\"Total Revenue\":\"${:.2f}\"})\n"
   ]
  },
  {
   "cell_type": "code",
   "execution_count": 8,
   "metadata": {
    "tags": []
   },
   "outputs": [
    {
     "output_type": "execute_result",
     "data": {
      "text/plain": "        Count  Percentage\nMale    484.0    0.840278\nFemale   81.0    0.140625\nOther    11.0    0.019097",
      "text/html": "<div>\n<style scoped>\n    .dataframe tbody tr th:only-of-type {\n        vertical-align: middle;\n    }\n\n    .dataframe tbody tr th {\n        vertical-align: top;\n    }\n\n    .dataframe thead th {\n        text-align: right;\n    }\n</style>\n<table border=\"1\" class=\"dataframe\">\n  <thead>\n    <tr style=\"text-align: right;\">\n      <th></th>\n      <th>Count</th>\n      <th>Percentage</th>\n    </tr>\n  </thead>\n  <tbody>\n    <tr>\n      <th>Male</th>\n      <td>484.0</td>\n      <td>0.840278</td>\n    </tr>\n    <tr>\n      <th>Female</th>\n      <td>81.0</td>\n      <td>0.140625</td>\n    </tr>\n    <tr>\n      <th>Other</th>\n      <td>11.0</td>\n      <td>0.019097</td>\n    </tr>\n  </tbody>\n</table>\n</div>"
     },
     "metadata": {},
     "execution_count": 8
    }
   ],
   "source": [
    "#Gender Demographics\n",
    "#Calculate Count and Percentage of Total by Gender\n",
    "#totalplayers is already calculated\n",
    "total_gender_df = purchase_data_df[[\"SN\",\"Gender\"]]\n",
    "total_gender_df\n",
    "total_gender_df = total_gender_df.drop_duplicates(subset = [\"SN\"])\n",
    "totalgendercount = total_gender_df['SN'].count()\n",
    "malecount = total_gender_df[total_gender_df[\"Gender\"]=='Male'].count()[\"SN\"]\n",
    "femalecount = total_gender_df[total_gender_df[\"Gender\"]=='Female'].count()[\"SN\"]\n",
    "othercount = totalgendercount - malecount - femalecount\n",
    "count = (malecount,femalecount,othercount)\n",
    "malepercentage = malecount / totalgendercount\n",
    "femalepercentage = femalecount / totalgendercount\n",
    "otherpercentage = 1 - (malepercentage + femalepercentage)\n",
    "percentage = (malepercentage,femalepercentage,otherpercentage)\n",
    "#Create Gender Summary dataframe, transposed\n",
    "gendersummary_df = pd.DataFrame([count,percentage],index=['Count','Percentage'],columns=['Male','Female','Other']).T\n",
    "gendersummary_df\n"
   ]
  },
  {
   "cell_type": "code",
   "execution_count": 9,
   "metadata": {
    "tags": []
   },
   "outputs": [
    {
     "output_type": "execute_result",
     "data": {
      "text/plain": "<pandas.io.formats.style.Styler at 0x19db6c6c828>",
      "text/html": "<style  type=\"text/css\" >\n</style><table id=\"T_34c92e2e_e4a9_11ea_8c6e_c03eba874a93\" ><thead>    <tr>        <th class=\"blank level0\" ></th>        <th class=\"col_heading level0 col0\" >Purchase Count</th>        <th class=\"col_heading level0 col1\" >Average Purchase Price</th>        <th class=\"col_heading level0 col2\" >Total Purchase Value</th>        <th class=\"col_heading level0 col3\" >Avg Purchase Total per Person by Gender</th>    </tr>    <tr>        <th class=\"index_name level0\" >Category</th>        <th class=\"blank\" ></th>        <th class=\"blank\" ></th>        <th class=\"blank\" ></th>        <th class=\"blank\" ></th>    </tr></thead><tbody>\n                <tr>\n                        <th id=\"T_34c92e2e_e4a9_11ea_8c6e_c03eba874a93level0_row0\" class=\"row_heading level0 row0\" >Male</th>\n                        <td id=\"T_34c92e2e_e4a9_11ea_8c6e_c03eba874a93row0_col0\" class=\"data row0 col0\" >484</td>\n                        <td id=\"T_34c92e2e_e4a9_11ea_8c6e_c03eba874a93row0_col1\" class=\"data row0 col1\" >$3.02</td>\n                        <td id=\"T_34c92e2e_e4a9_11ea_8c6e_c03eba874a93row0_col2\" class=\"data row0 col2\" >$1967.64</td>\n                        <td id=\"T_34c92e2e_e4a9_11ea_8c6e_c03eba874a93row0_col3\" class=\"data row0 col3\" >$4.07</td>\n            </tr>\n            <tr>\n                        <th id=\"T_34c92e2e_e4a9_11ea_8c6e_c03eba874a93level0_row1\" class=\"row_heading level0 row1\" >Female</th>\n                        <td id=\"T_34c92e2e_e4a9_11ea_8c6e_c03eba874a93row1_col0\" class=\"data row1 col0\" >81</td>\n                        <td id=\"T_34c92e2e_e4a9_11ea_8c6e_c03eba874a93row1_col1\" class=\"data row1 col1\" >$3.20</td>\n                        <td id=\"T_34c92e2e_e4a9_11ea_8c6e_c03eba874a93row1_col2\" class=\"data row1 col2\" >$361.94</td>\n                        <td id=\"T_34c92e2e_e4a9_11ea_8c6e_c03eba874a93row1_col3\" class=\"data row1 col3\" >$4.47</td>\n            </tr>\n            <tr>\n                        <th id=\"T_34c92e2e_e4a9_11ea_8c6e_c03eba874a93level0_row2\" class=\"row_heading level0 row2\" >Other/Non-Disclosed</th>\n                        <td id=\"T_34c92e2e_e4a9_11ea_8c6e_c03eba874a93row2_col0\" class=\"data row2 col0\" >11</td>\n                        <td id=\"T_34c92e2e_e4a9_11ea_8c6e_c03eba874a93row2_col1\" class=\"data row2 col1\" >$3.35</td>\n                        <td id=\"T_34c92e2e_e4a9_11ea_8c6e_c03eba874a93row2_col2\" class=\"data row2 col2\" >$50.19</td>\n                        <td id=\"T_34c92e2e_e4a9_11ea_8c6e_c03eba874a93row2_col3\" class=\"data row2 col3\" >$4.56</td>\n            </tr>\n    </tbody></table>"
     },
     "metadata": {},
     "execution_count": 9
    }
   ],
   "source": [
    "#Calculate the Gender Purchasing Metrics (Purchase Count, Avg Purchase Price, Total Purchases, &\n",
    "#Average Purchase Total per Person by Gender).\n",
    "avgpurchase = purchase_data_df.loc[purchase_data_df[\"Gender\"]==\"Male\"]\n",
    "avgpurchasemale = avgpurchase[\"Price\"].mean()\n",
    "totalpurchasemale = avgpurchase[\"Price\"].sum()\n",
    "\n",
    "avgpurchase = purchase_data_df.loc[purchase_data_df[\"Gender\"]==\"Female\"]\n",
    "avgpurchasefemale = avgpurchase[\"Price\"].mean()\n",
    "totalpurchasefemale = avgpurchase[\"Price\"].sum()\n",
    "\n",
    "avgpurchase = purchase_data_df.loc[purchase_data_df[\"Gender\"]==\"Other / Non-Disclosed\"]\n",
    "avgpurchaseother = avgpurchase[\"Price\"].mean()\n",
    "totalpurchaseother = avgpurchase[\"Price\"].sum()\n",
    "#Build dataframe and summary table for Purchase Analysis by Gender\n",
    "gender_pur_summary_df = pd.DataFrame({\"Purchase Count\": [malecount,femalecount,othercount],\"Average Purchase Price\": [avgpurchasemale,avgpurchasefemale,avgpurchaseother],\"Total Purchase Value\": [totalpurchasemale,totalpurchasefemale,totalpurchaseother],\"Avg Purchase Total per Person by Gender\":[totalpurchasemale/malecount,totalpurchasefemale/femalecount,totalpurchaseother/othercount],\"Category\":[\"Male\", \"Female\", \"Other/Non-Disclosed\"]})\n",
    "#Format and arrange Columns.  Convert numbers to Currency\n",
    "genderpur_final_df = gender_pur_summary_df.set_index(\"Category\")\n",
    "gender_pur_summary_df = gender_pur_summary_df[[\"Purchase Count\",\"Average Purchase Price\",\"Total Purchase Value\",\"Avg Purchase Total per Person by Gender\"]]\n",
    "genderpur_final_df.style.format({\"Average Purchase Price\":\"${:.2f}\",\"Total Purchase Value\":\"${:.2f}\",\"Avg Purchase Total per Person by Gender\":\"${:.2f}\"})\n"
   ]
  },
  {
   "cell_type": "code",
   "execution_count": 10,
   "metadata": {},
   "outputs": [
    {
     "output_type": "execute_result",
     "data": {
      "text/plain": "<pandas.io.formats.style.Styler at 0x19db90d49b0>",
      "text/html": "<style  type=\"text/css\" >\n</style><table id=\"T_34d4bf00_e4a9_11ea_bccd_c03eba874a93\" ><thead>    <tr>        <th class=\"blank level0\" ></th>        <th class=\"col_heading level0 col0\" >Purchase Count</th>        <th class=\"col_heading level0 col1\" >Average Purchase Price</th>        <th class=\"col_heading level0 col2\" >Total Purchase Value</th>        <th class=\"col_heading level0 col3\" >Avg Purchase Total per Person by Age Group</th>    </tr>    <tr>        <th class=\"index_name level0\" >Age Groups</th>        <th class=\"blank\" ></th>        <th class=\"blank\" ></th>        <th class=\"blank\" ></th>        <th class=\"blank\" ></th>    </tr></thead><tbody>\n                <tr>\n                        <th id=\"T_34d4bf00_e4a9_11ea_bccd_c03eba874a93level0_row0\" class=\"row_heading level0 row0\" ><10</th>\n                        <td id=\"T_34d4bf00_e4a9_11ea_bccd_c03eba874a93row0_col0\" class=\"data row0 col0\" >23</td>\n                        <td id=\"T_34d4bf00_e4a9_11ea_bccd_c03eba874a93row0_col1\" class=\"data row0 col1\" >$3.35</td>\n                        <td id=\"T_34d4bf00_e4a9_11ea_bccd_c03eba874a93row0_col2\" class=\"data row0 col2\" >$77.13</td>\n                        <td id=\"T_34d4bf00_e4a9_11ea_bccd_c03eba874a93row0_col3\" class=\"data row0 col3\" >$3.35</td>\n            </tr>\n            <tr>\n                        <th id=\"T_34d4bf00_e4a9_11ea_bccd_c03eba874a93level0_row1\" class=\"row_heading level0 row1\" >10-14</th>\n                        <td id=\"T_34d4bf00_e4a9_11ea_bccd_c03eba874a93row1_col0\" class=\"data row1 col0\" >28</td>\n                        <td id=\"T_34d4bf00_e4a9_11ea_bccd_c03eba874a93row1_col1\" class=\"data row1 col1\" >$2.96</td>\n                        <td id=\"T_34d4bf00_e4a9_11ea_bccd_c03eba874a93row1_col2\" class=\"data row1 col2\" >$82.78</td>\n                        <td id=\"T_34d4bf00_e4a9_11ea_bccd_c03eba874a93row1_col3\" class=\"data row1 col3\" >$2.96</td>\n            </tr>\n            <tr>\n                        <th id=\"T_34d4bf00_e4a9_11ea_bccd_c03eba874a93level0_row2\" class=\"row_heading level0 row2\" >15-19</th>\n                        <td id=\"T_34d4bf00_e4a9_11ea_bccd_c03eba874a93row2_col0\" class=\"data row2 col0\" >136</td>\n                        <td id=\"T_34d4bf00_e4a9_11ea_bccd_c03eba874a93row2_col1\" class=\"data row2 col1\" >$3.04</td>\n                        <td id=\"T_34d4bf00_e4a9_11ea_bccd_c03eba874a93row2_col2\" class=\"data row2 col2\" >$412.89</td>\n                        <td id=\"T_34d4bf00_e4a9_11ea_bccd_c03eba874a93row2_col3\" class=\"data row2 col3\" >$3.04</td>\n            </tr>\n            <tr>\n                        <th id=\"T_34d4bf00_e4a9_11ea_bccd_c03eba874a93level0_row3\" class=\"row_heading level0 row3\" >20-24</th>\n                        <td id=\"T_34d4bf00_e4a9_11ea_bccd_c03eba874a93row3_col0\" class=\"data row3 col0\" >365</td>\n                        <td id=\"T_34d4bf00_e4a9_11ea_bccd_c03eba874a93row3_col1\" class=\"data row3 col1\" >$3.05</td>\n                        <td id=\"T_34d4bf00_e4a9_11ea_bccd_c03eba874a93row3_col2\" class=\"data row3 col2\" >$1114.06</td>\n                        <td id=\"T_34d4bf00_e4a9_11ea_bccd_c03eba874a93row3_col3\" class=\"data row3 col3\" >$3.05</td>\n            </tr>\n            <tr>\n                        <th id=\"T_34d4bf00_e4a9_11ea_bccd_c03eba874a93level0_row4\" class=\"row_heading level0 row4\" >25-29</th>\n                        <td id=\"T_34d4bf00_e4a9_11ea_bccd_c03eba874a93row4_col0\" class=\"data row4 col0\" >101</td>\n                        <td id=\"T_34d4bf00_e4a9_11ea_bccd_c03eba874a93row4_col1\" class=\"data row4 col1\" >$2.90</td>\n                        <td id=\"T_34d4bf00_e4a9_11ea_bccd_c03eba874a93row4_col2\" class=\"data row4 col2\" >$293.00</td>\n                        <td id=\"T_34d4bf00_e4a9_11ea_bccd_c03eba874a93row4_col3\" class=\"data row4 col3\" >$2.90</td>\n            </tr>\n            <tr>\n                        <th id=\"T_34d4bf00_e4a9_11ea_bccd_c03eba874a93level0_row5\" class=\"row_heading level0 row5\" >30-34</th>\n                        <td id=\"T_34d4bf00_e4a9_11ea_bccd_c03eba874a93row5_col0\" class=\"data row5 col0\" >73</td>\n                        <td id=\"T_34d4bf00_e4a9_11ea_bccd_c03eba874a93row5_col1\" class=\"data row5 col1\" >$2.93</td>\n                        <td id=\"T_34d4bf00_e4a9_11ea_bccd_c03eba874a93row5_col2\" class=\"data row5 col2\" >$214.00</td>\n                        <td id=\"T_34d4bf00_e4a9_11ea_bccd_c03eba874a93row5_col3\" class=\"data row5 col3\" >$2.93</td>\n            </tr>\n            <tr>\n                        <th id=\"T_34d4bf00_e4a9_11ea_bccd_c03eba874a93level0_row6\" class=\"row_heading level0 row6\" >35-39</th>\n                        <td id=\"T_34d4bf00_e4a9_11ea_bccd_c03eba874a93row6_col0\" class=\"data row6 col0\" >41</td>\n                        <td id=\"T_34d4bf00_e4a9_11ea_bccd_c03eba874a93row6_col1\" class=\"data row6 col1\" >$3.60</td>\n                        <td id=\"T_34d4bf00_e4a9_11ea_bccd_c03eba874a93row6_col2\" class=\"data row6 col2\" >$147.67</td>\n                        <td id=\"T_34d4bf00_e4a9_11ea_bccd_c03eba874a93row6_col3\" class=\"data row6 col3\" >$3.60</td>\n            </tr>\n            <tr>\n                        <th id=\"T_34d4bf00_e4a9_11ea_bccd_c03eba874a93level0_row7\" class=\"row_heading level0 row7\" >40-44</th>\n                        <td id=\"T_34d4bf00_e4a9_11ea_bccd_c03eba874a93row7_col0\" class=\"data row7 col0\" >12</td>\n                        <td id=\"T_34d4bf00_e4a9_11ea_bccd_c03eba874a93row7_col1\" class=\"data row7 col1\" >$3.04</td>\n                        <td id=\"T_34d4bf00_e4a9_11ea_bccd_c03eba874a93row7_col2\" class=\"data row7 col2\" >$36.54</td>\n                        <td id=\"T_34d4bf00_e4a9_11ea_bccd_c03eba874a93row7_col3\" class=\"data row7 col3\" >$3.04</td>\n            </tr>\n            <tr>\n                        <th id=\"T_34d4bf00_e4a9_11ea_bccd_c03eba874a93level0_row8\" class=\"row_heading level0 row8\" >>44</th>\n                        <td id=\"T_34d4bf00_e4a9_11ea_bccd_c03eba874a93row8_col0\" class=\"data row8 col0\" >1</td>\n                        <td id=\"T_34d4bf00_e4a9_11ea_bccd_c03eba874a93row8_col1\" class=\"data row8 col1\" >$1.70</td>\n                        <td id=\"T_34d4bf00_e4a9_11ea_bccd_c03eba874a93row8_col2\" class=\"data row8 col2\" >$1.70</td>\n                        <td id=\"T_34d4bf00_e4a9_11ea_bccd_c03eba874a93row8_col3\" class=\"data row8 col3\" >$1.70</td>\n            </tr>\n    </tbody></table>"
     },
     "metadata": {},
     "execution_count": 10
    }
   ],
   "source": [
    "#Age Demographics: same metrics Purchase Count, Avg Purchase Price, Total Purchase Value, Avg Purchase Total\n",
    "#per Person by the Age Group.\n",
    "#Use bins & pd.cut\n",
    "#Bins (<10, 10-14, 15-19,...by 4 year increments) Min is 7, Max is 45\n",
    "bins = [0,9.90,14.90,19.90,24.90,29.90,34.90,39.90,44.90,99999]\n",
    "age_groups = [\"<10\", \"10-14\", \"15-19\", \"20-24\", \"25-29\", \"30-34\", \"35-39\", \"40-44\", \">44\"]\n",
    "age_df = purchase_data_df\n",
    "age_df[\"Age Groups\"] = pd.cut(purchase_data_df[\"Age\"],bins,labels=age_groups)\n",
    "age_df.head()\n",
    "avgpurchasebybin1 = age_df.loc[age_df[\"Age Groups\"]==\"<10\"]\n",
    "avgpurchasebin1 = avgpurchasebybin1[\"Price\"].mean()\n",
    "totalpurchasebin1 = avgpurchasebybin1[\"Price\"].sum()\n",
    "totalcountbin1 = avgpurchasebybin1[\"Age Groups\"].count()\n",
    "avgpurchasebybin2 = age_df.loc[age_df[\"Age Groups\"]==\"10-14\"]\n",
    "avgpurchasebin2 = avgpurchasebybin2[\"Price\"].mean()\n",
    "totalpurchasebin2 = avgpurchasebybin2[\"Price\"].sum()\n",
    "totalcountbin2 = avgpurchasebybin2[\"Age Groups\"].count()\n",
    "avgpurchasebybin3 = age_df.loc[age_df[\"Age Groups\"]==\"15-19\"]\n",
    "avgpurchasebin3 = avgpurchasebybin3[\"Price\"].mean()\n",
    "totalpurchasebin3 = avgpurchasebybin3[\"Price\"].sum()\n",
    "totalcountbin3 = avgpurchasebybin3[\"Age Groups\"].count()\n",
    "avgpurchasebybin4 = age_df.loc[age_df[\"Age Groups\"]==\"20-24\"]\n",
    "avgpurchasebin4 = avgpurchasebybin4[\"Price\"].mean()\n",
    "totalpurchasebin4 = avgpurchasebybin4[\"Price\"].sum()\n",
    "totalcountbin4 = avgpurchasebybin4[\"Age Groups\"].count()\n",
    "avgpurchasebybin5 = age_df.loc[age_df[\"Age Groups\"]==\"25-29\"]\n",
    "avgpurchasebin5 = avgpurchasebybin5[\"Price\"].mean()\n",
    "totalpurchasebin5 = avgpurchasebybin5[\"Price\"].sum()\n",
    "totalcountbin5 = avgpurchasebybin5[\"Age Groups\"].count()\n",
    "avgpurchasebybin6 = age_df.loc[age_df[\"Age Groups\"]==\"30-34\"]\n",
    "avgpurchasebin6 = avgpurchasebybin6[\"Price\"].mean()\n",
    "totalpurchasebin6 = avgpurchasebybin6[\"Price\"].sum()\n",
    "totalcountbin6 = avgpurchasebybin6[\"Age Groups\"].count()\n",
    "avgpurchasebybin7 = age_df.loc[age_df[\"Age Groups\"]==\"35-39\"]\n",
    "avgpurchasebin7 = avgpurchasebybin7[\"Price\"].mean()\n",
    "totalpurchasebin7 = avgpurchasebybin7[\"Price\"].sum()\n",
    "totalcountbin7 = avgpurchasebybin7[\"Age Groups\"].count()\n",
    "avgpurchasebybin8 = age_df.loc[age_df[\"Age Groups\"]==\"40-44\"]\n",
    "avgpurchasebin8 = avgpurchasebybin8[\"Price\"].mean()\n",
    "totalpurchasebin8 = avgpurchasebybin8[\"Price\"].sum()\n",
    "totalcountbin8 = avgpurchasebybin8[\"Age Groups\"].count()\n",
    "avgpurchasebybin9 = age_df.loc[age_df[\"Age Groups\"]==\">44\"]\n",
    "avgpurchasebin9 = avgpurchasebybin9[\"Price\"].mean()\n",
    "totalpurchasebin9 = avgpurchasebybin9[\"Price\"].sum()\n",
    "totalcountbin9 = avgpurchasebybin9[\"Age Groups\"].count()\n",
    "#Build dataframe and summary table for Purchase Analysis by Age Groups\n",
    "agegroup_purchase_summary_df = pd.DataFrame({\"Purchase Count\": [totalcountbin1,totalcountbin2,totalcountbin3,totalcountbin4,totalcountbin5,totalcountbin6,totalcountbin7,totalcountbin8,totalcountbin9],\"Average Purchase Price\": [avgpurchasebin1,avgpurchasebin2,avgpurchasebin3,avgpurchasebin4,avgpurchasebin5,avgpurchasebin6,avgpurchasebin7,avgpurchasebin8,avgpurchasebin9],\"Total Purchase Value\": [totalpurchasebin1,totalpurchasebin2,totalpurchasebin3,totalpurchasebin4,totalpurchasebin5,totalpurchasebin6,totalpurchasebin7,totalpurchasebin8,totalpurchasebin9],\"Avg Purchase Total per Person by Age Group\":[totalpurchasebin1/totalcountbin1,totalpurchasebin2/totalcountbin2,totalpurchasebin3/totalcountbin3,totalpurchasebin4/totalcountbin4,totalpurchasebin5/totalcountbin5,totalpurchasebin6/totalcountbin6,totalpurchasebin7/totalcountbin7,totalpurchasebin8/totalcountbin8,totalpurchasebin9/totalcountbin9],\"Age Groups\":[\"<10\", \"10-14\", \"15-19\", \"20-24\", \"25-29\", \"30-34\", \"35-39\", \"40-44\", \">44\"]})\n",
    "#Format and arrange Columns.  Convert numbers to Currency\n",
    "agegroup_final_df = agegroup_purchase_summary_df.set_index(\"Age Groups\")\n",
    "agegroup_purchase_summary_df = agegroup_purchase_summary_df[[\"Purchase Count\",\"Average Purchase Price\",\"Total Purchase Value\",\"Avg Purchase Total per Person by Age Group\"]]\n",
    "agegroup_final_df.style.format({\"Average Purchase Price\":\"${:.2f}\",\"Total Purchase Value\":\"${:.2f}\",\"Avg Purchase Total per Person by Age Group\":\"${:.2f}\"})\n",
    "\n"
   ]
  },
  {
   "cell_type": "code",
   "execution_count": 11,
   "metadata": {
    "tags": []
   },
   "outputs": [
    {
     "output_type": "execute_result",
     "data": {
      "text/plain": "             Purchase Count  Average Purchase Price  Total Purchase Value\nSN                                                                       \nLisosia93                 5                3.792000                 18.96\nIdastidru52               4                3.862500                 15.45\nChamjask73                3                4.610000                 13.83\nIral74                    4                3.405000                 13.62\nIskadarya95               3                4.366667                 13.10",
      "text/html": "<div>\n<style scoped>\n    .dataframe tbody tr th:only-of-type {\n        vertical-align: middle;\n    }\n\n    .dataframe tbody tr th {\n        vertical-align: top;\n    }\n\n    .dataframe thead th {\n        text-align: right;\n    }\n</style>\n<table border=\"1\" class=\"dataframe\">\n  <thead>\n    <tr style=\"text-align: right;\">\n      <th></th>\n      <th>Purchase Count</th>\n      <th>Average Purchase Price</th>\n      <th>Total Purchase Value</th>\n    </tr>\n    <tr>\n      <th>SN</th>\n      <th></th>\n      <th></th>\n      <th></th>\n    </tr>\n  </thead>\n  <tbody>\n    <tr>\n      <th>Lisosia93</th>\n      <td>5</td>\n      <td>3.792000</td>\n      <td>18.96</td>\n    </tr>\n    <tr>\n      <th>Idastidru52</th>\n      <td>4</td>\n      <td>3.862500</td>\n      <td>15.45</td>\n    </tr>\n    <tr>\n      <th>Chamjask73</th>\n      <td>3</td>\n      <td>4.610000</td>\n      <td>13.83</td>\n    </tr>\n    <tr>\n      <th>Iral74</th>\n      <td>4</td>\n      <td>3.405000</td>\n      <td>13.62</td>\n    </tr>\n    <tr>\n      <th>Iskadarya95</th>\n      <td>3</td>\n      <td>4.366667</td>\n      <td>13.10</td>\n    </tr>\n  </tbody>\n</table>\n</div>"
     },
     "metadata": {},
     "execution_count": 11
    }
   ],
   "source": [
    "#Create dataframe from original group by Name\n",
    "top_spenders_df = purchase_data_df.groupby(\"SN\")\n",
    "#Calculate\n",
    "topspend_count = top_spenders_df[\"Price\"].count()\n",
    "topspend_avgprice = top_spenders_df[\"Price\"].mean()\n",
    "topspend_totalvalue = top_spenders_df[\"Price\"].sum()\n",
    "topspendsummary_df = pd.DataFrame({\"Purchase Count\":topspend_count,\"Average Purchase Price\":topspend_avgprice,\"Total Purchase Value\": topspend_totalvalue})\n",
    "topspendfinal = topspendsummary_df.sort_values(by=['Total Purchase Value'], ascending=False)\n",
    "topspendfinal.head(5)\n",
    "\n",
    "\n"
   ]
  },
  {
   "cell_type": "code",
   "execution_count": 12,
   "metadata": {},
   "outputs": [
    {
     "output_type": "execute_result",
     "data": {
      "text/plain": "                                                      Purchase Count  \\\nItem ID Item Name                                                      \n92      Final Critic                                              13   \n178     Oathbreaker, Last Hope of the Breaking Storm              12   \n145     Fiery Glass Crusader                                       9   \n132     Persuasion                                                 9   \n108     Extraction, Quickblade Of Trembling Hands                  9   \n\n                                                      Average Purchase Price  \\\nItem ID Item Name                                                              \n92      Final Critic                                                    4.61   \n178     Oathbreaker, Last Hope of the Breaking Storm                    4.23   \n145     Fiery Glass Crusader                                            4.58   \n132     Persuasion                                                      3.22   \n108     Extraction, Quickblade Of Trembling Hands                       3.53   \n\n                                                      Total Purchase Value  \nItem ID Item Name                                                           \n92      Final Critic                                                 59.99  \n178     Oathbreaker, Last Hope of the Breaking Storm                 50.76  \n145     Fiery Glass Crusader                                         41.22  \n132     Persuasion                                                   28.99  \n108     Extraction, Quickblade Of Trembling Hands                    31.77  ",
      "text/html": "<div>\n<style scoped>\n    .dataframe tbody tr th:only-of-type {\n        vertical-align: middle;\n    }\n\n    .dataframe tbody tr th {\n        vertical-align: top;\n    }\n\n    .dataframe thead th {\n        text-align: right;\n    }\n</style>\n<table border=\"1\" class=\"dataframe\">\n  <thead>\n    <tr style=\"text-align: right;\">\n      <th></th>\n      <th></th>\n      <th>Purchase Count</th>\n      <th>Average Purchase Price</th>\n      <th>Total Purchase Value</th>\n    </tr>\n    <tr>\n      <th>Item ID</th>\n      <th>Item Name</th>\n      <th></th>\n      <th></th>\n      <th></th>\n    </tr>\n  </thead>\n  <tbody>\n    <tr>\n      <th>92</th>\n      <th>Final Critic</th>\n      <td>13</td>\n      <td>4.61</td>\n      <td>59.99</td>\n    </tr>\n    <tr>\n      <th>178</th>\n      <th>Oathbreaker, Last Hope of the Breaking Storm</th>\n      <td>12</td>\n      <td>4.23</td>\n      <td>50.76</td>\n    </tr>\n    <tr>\n      <th>145</th>\n      <th>Fiery Glass Crusader</th>\n      <td>9</td>\n      <td>4.58</td>\n      <td>41.22</td>\n    </tr>\n    <tr>\n      <th>132</th>\n      <th>Persuasion</th>\n      <td>9</td>\n      <td>3.22</td>\n      <td>28.99</td>\n    </tr>\n    <tr>\n      <th>108</th>\n      <th>Extraction, Quickblade Of Trembling Hands</th>\n      <td>9</td>\n      <td>3.53</td>\n      <td>31.77</td>\n    </tr>\n  </tbody>\n</table>\n</div>"
     },
     "metadata": {},
     "execution_count": 12
    }
   ],
   "source": [
    "#Create dataframe from original group Item ID and Item Name\n",
    "top_items_df = purchase_data_df.groupby([\"Item ID\",\"Item Name\"])\n",
    "#Calculate\n",
    "topitem = top_items_df[\"Item Name\"].unique\n",
    "topitem_count = top_items_df[\"Price\"].count()\n",
    "topitem_avg = top_items_df[\"Price\"].mean()\n",
    "topitem_total = top_items_df[\"Price\"].sum()\n",
    "topitemsummary_df = pd.DataFrame({\"Purchase Count\":topitem_count,\"Average Purchase Price\":topitem_avg,\"Total Purchase Value\": topitem_total}).round(2)\n",
    "topitemfinal = topitemsummary_df.sort_values(by=['Purchase Count'], ascending=False)\n",
    "topitemfinal.head(5)\n"
   ]
  },
  {
   "cell_type": "code",
   "execution_count": 13,
   "metadata": {},
   "outputs": [
    {
     "output_type": "execute_result",
     "data": {
      "text/plain": "                                                      Purchase Count  \\\nItem ID Item Name                                                      \n92      Final Critic                                              13   \n178     Oathbreaker, Last Hope of the Breaking Storm              12   \n82      Nirvana                                                    9   \n145     Fiery Glass Crusader                                       9   \n103     Singed Scalpel                                             8   \n\n                                                      Average Purchase Price  \\\nItem ID Item Name                                                              \n92      Final Critic                                                    4.61   \n178     Oathbreaker, Last Hope of the Breaking Storm                    4.23   \n82      Nirvana                                                         4.90   \n145     Fiery Glass Crusader                                            4.58   \n103     Singed Scalpel                                                  4.35   \n\n                                                      Total Purchase Value  \nItem ID Item Name                                                           \n92      Final Critic                                                 59.99  \n178     Oathbreaker, Last Hope of the Breaking Storm                 50.76  \n82      Nirvana                                                      44.10  \n145     Fiery Glass Crusader                                         41.22  \n103     Singed Scalpel                                               34.80  ",
      "text/html": "<div>\n<style scoped>\n    .dataframe tbody tr th:only-of-type {\n        vertical-align: middle;\n    }\n\n    .dataframe tbody tr th {\n        vertical-align: top;\n    }\n\n    .dataframe thead th {\n        text-align: right;\n    }\n</style>\n<table border=\"1\" class=\"dataframe\">\n  <thead>\n    <tr style=\"text-align: right;\">\n      <th></th>\n      <th></th>\n      <th>Purchase Count</th>\n      <th>Average Purchase Price</th>\n      <th>Total Purchase Value</th>\n    </tr>\n    <tr>\n      <th>Item ID</th>\n      <th>Item Name</th>\n      <th></th>\n      <th></th>\n      <th></th>\n    </tr>\n  </thead>\n  <tbody>\n    <tr>\n      <th>92</th>\n      <th>Final Critic</th>\n      <td>13</td>\n      <td>4.61</td>\n      <td>59.99</td>\n    </tr>\n    <tr>\n      <th>178</th>\n      <th>Oathbreaker, Last Hope of the Breaking Storm</th>\n      <td>12</td>\n      <td>4.23</td>\n      <td>50.76</td>\n    </tr>\n    <tr>\n      <th>82</th>\n      <th>Nirvana</th>\n      <td>9</td>\n      <td>4.90</td>\n      <td>44.10</td>\n    </tr>\n    <tr>\n      <th>145</th>\n      <th>Fiery Glass Crusader</th>\n      <td>9</td>\n      <td>4.58</td>\n      <td>41.22</td>\n    </tr>\n    <tr>\n      <th>103</th>\n      <th>Singed Scalpel</th>\n      <td>8</td>\n      <td>4.35</td>\n      <td>34.80</td>\n    </tr>\n  </tbody>\n</table>\n</div>"
     },
     "metadata": {},
     "execution_count": 13
    }
   ],
   "source": [
    "#Resort final dataframe from above to show Top 5 by Total Purchase Value\n",
    "topprofitfinal = topitemsummary_df.sort_values(by=['Total Purchase Value'], ascending=False)\n",
    "topprofitfinal.head(5)"
   ]
  },
  {
   "cell_type": "code",
   "execution_count": null,
   "metadata": {},
   "outputs": [],
   "source": []
  }
 ]
}