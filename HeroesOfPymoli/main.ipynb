{
 "metadata": {
  "language_info": {
   "codemirror_mode": {
    "name": "ipython",
    "version": 3
   },
   "file_extension": ".py",
   "mimetype": "text/x-python",
   "name": "python",
   "nbconvert_exporter": "python",
   "pygments_lexer": "ipython3",
   "version": "3.6.10-final"
  },
  "orig_nbformat": 2,
  "kernelspec": {
   "name": "python361064bitpythondataconda8cb20f4cf04f470fa256b7902842b8c4",
   "display_name": "Python 3.6.10 64-bit ('PythonData': conda)"
  }
 },
 "nbformat": 4,
 "nbformat_minor": 2,
 "cells": [
  {
   "cell_type": "code",
   "execution_count": 25,
   "metadata": {},
   "outputs": [],
   "source": [
    "#Heroes of Pymoli\n",
    "import pandas as pd\n",
    "import numpy as np"
   ]
  },
  {
   "cell_type": "code",
   "execution_count": 26,
   "metadata": {},
   "outputs": [
    {
     "output_type": "execute_result",
     "data": {
      "text/plain": "   Purchase ID             SN  Age Gender  Item ID  \\\n0            0        Lisim78   20   Male      108   \n1            1    Lisovynya38   40   Male      143   \n2            2     Ithergue48   24   Male       92   \n3            3  Chamassasya86   24   Male      100   \n4            4      Iskosia90   23   Male      131   \n\n                                   Item Name  Price  \n0  Extraction, Quickblade Of Trembling Hands   3.53  \n1                          Frenzied Scimitar   1.56  \n2                               Final Critic   4.88  \n3                                Blindscythe   3.27  \n4                                       Fury   1.44  ",
      "text/html": "<div>\n<style scoped>\n    .dataframe tbody tr th:only-of-type {\n        vertical-align: middle;\n    }\n\n    .dataframe tbody tr th {\n        vertical-align: top;\n    }\n\n    .dataframe thead th {\n        text-align: right;\n    }\n</style>\n<table border=\"1\" class=\"dataframe\">\n  <thead>\n    <tr style=\"text-align: right;\">\n      <th></th>\n      <th>Purchase ID</th>\n      <th>SN</th>\n      <th>Age</th>\n      <th>Gender</th>\n      <th>Item ID</th>\n      <th>Item Name</th>\n      <th>Price</th>\n    </tr>\n  </thead>\n  <tbody>\n    <tr>\n      <th>0</th>\n      <td>0</td>\n      <td>Lisim78</td>\n      <td>20</td>\n      <td>Male</td>\n      <td>108</td>\n      <td>Extraction, Quickblade Of Trembling Hands</td>\n      <td>3.53</td>\n    </tr>\n    <tr>\n      <th>1</th>\n      <td>1</td>\n      <td>Lisovynya38</td>\n      <td>40</td>\n      <td>Male</td>\n      <td>143</td>\n      <td>Frenzied Scimitar</td>\n      <td>1.56</td>\n    </tr>\n    <tr>\n      <th>2</th>\n      <td>2</td>\n      <td>Ithergue48</td>\n      <td>24</td>\n      <td>Male</td>\n      <td>92</td>\n      <td>Final Critic</td>\n      <td>4.88</td>\n    </tr>\n    <tr>\n      <th>3</th>\n      <td>3</td>\n      <td>Chamassasya86</td>\n      <td>24</td>\n      <td>Male</td>\n      <td>100</td>\n      <td>Blindscythe</td>\n      <td>3.27</td>\n    </tr>\n    <tr>\n      <th>4</th>\n      <td>4</td>\n      <td>Iskosia90</td>\n      <td>23</td>\n      <td>Male</td>\n      <td>131</td>\n      <td>Fury</td>\n      <td>1.44</td>\n    </tr>\n  </tbody>\n</table>\n</div>"
     },
     "metadata": {},
     "execution_count": 26
    }
   ],
   "source": [
    "#bring in csv file\n",
    "file = \"Resources/purchase_data.csv\"\n",
    "# Read our Kickstarter data into pandas\n",
    "purchase_data_df = pd.read_csv(file)\n",
    "purchase_data_df.head()\n"
   ]
  },
  {
   "cell_type": "code",
   "execution_count": 27,
   "metadata": {
    "tags": []
   },
   "outputs": [
    {
     "output_type": "execute_result",
     "data": {
      "text/plain": "SN\nAdairialis76     1\nAdastirin33      1\nAeda94           1\nAela59           1\nAelaria33        1\n                ..\nYathecal82       1\nYathedeu43       1\nYoishirrala98    1\nZhisrisu83       1\nZontibe81        1\nName: SN, Length: 576, dtype: int64"
     },
     "metadata": {},
     "execution_count": 27
    }
   ],
   "source": [
    "#Players Count: Total Number of Unique Players\n",
    "total_players = purchase_data_df.groupby('SN')['SN'].nunique()\n",
    "total_players\n",
    "\n"
   ]
  },
  {
   "cell_type": "code",
   "execution_count": 28,
   "metadata": {},
   "outputs": [
    {
     "output_type": "execute_result",
     "data": {
      "text/plain": "Item ID\n0      1\n1      1\n2      1\n3      1\n4      1\n      ..\n178    1\n179    1\n181    1\n182    1\n183    1\nName: Item ID, Length: 179, dtype: int64"
     },
     "metadata": {},
     "execution_count": 28
    }
   ],
   "source": [
    "#Purchasing Analysis (Total): Number of Unique Items, Average Purchase Price, Total Number of Purchases, and Total Revenue\n",
    "#Calculate Unique Number of Items\n",
    "unique_count = purchase_data_df.groupby('Item ID')['Item ID'].nunique()\n",
    "unique_count"
   ]
  },
  {
   "cell_type": "code",
   "execution_count": 29,
   "metadata": {
    "tags": []
   },
   "outputs": [
    {
     "output_type": "execute_result",
     "data": {
      "text/plain": "                                 Price\nItem Name                             \nAbyssal Shard                     2.67\nAetherius, Boon of the Blessed    3.39\nAgatha                            3.08\nAlpha                             2.07\nAlpha, Oath of Zeal               4.05\n...                                ...\nWolf                              3.54\nWolf, Promise of the Moonwalker   4.48\nWorldbreaker                      2.60\nYearning Crusher                  4.18\nYearning Mageblade                3.82\n\n[179 rows x 1 columns]",
      "text/html": "<div>\n<style scoped>\n    .dataframe tbody tr th:only-of-type {\n        vertical-align: middle;\n    }\n\n    .dataframe tbody tr th {\n        vertical-align: top;\n    }\n\n    .dataframe thead th {\n        text-align: right;\n    }\n</style>\n<table border=\"1\" class=\"dataframe\">\n  <thead>\n    <tr style=\"text-align: right;\">\n      <th></th>\n      <th>Price</th>\n    </tr>\n    <tr>\n      <th>Item Name</th>\n      <th></th>\n    </tr>\n  </thead>\n  <tbody>\n    <tr>\n      <th>Abyssal Shard</th>\n      <td>2.67</td>\n    </tr>\n    <tr>\n      <th>Aetherius, Boon of the Blessed</th>\n      <td>3.39</td>\n    </tr>\n    <tr>\n      <th>Agatha</th>\n      <td>3.08</td>\n    </tr>\n    <tr>\n      <th>Alpha</th>\n      <td>2.07</td>\n    </tr>\n    <tr>\n      <th>Alpha, Oath of Zeal</th>\n      <td>4.05</td>\n    </tr>\n    <tr>\n      <th>...</th>\n      <td>...</td>\n    </tr>\n    <tr>\n      <th>Wolf</th>\n      <td>3.54</td>\n    </tr>\n    <tr>\n      <th>Wolf, Promise of the Moonwalker</th>\n      <td>4.48</td>\n    </tr>\n    <tr>\n      <th>Worldbreaker</th>\n      <td>2.60</td>\n    </tr>\n    <tr>\n      <th>Yearning Crusher</th>\n      <td>4.18</td>\n    </tr>\n    <tr>\n      <th>Yearning Mageblade</th>\n      <td>3.82</td>\n    </tr>\n  </tbody>\n</table>\n<p>179 rows × 1 columns</p>\n</div>"
     },
     "metadata": {},
     "execution_count": 29
    }
   ],
   "source": [
    "#Calculate Average Purchase Price\n",
    "uniquepurchaseprice = purchase_data_df.groupby(\"Item Name\")\n",
    "uniquepurchaseprice[[\"Price\"]].mean()\n",
    "\n"
   ]
  },
  {
   "cell_type": "code",
   "execution_count": 30,
   "metadata": {
    "tags": []
   },
   "outputs": [
    {
     "output_type": "stream",
     "name": "stdout",
     "text": "780\n2379.77\n"
    }
   ],
   "source": [
    "#Calculate Total Number of Purchases, Total Revenue\n",
    "totalpurchases = purchase_data_df['Purchase ID'].count()\n",
    "print (totalpurchases)\n",
    "totalrevenue = purchase_data_df['Price'].sum()\n",
    "print (totalrevenue)\n"
   ]
  },
  {
   "cell_type": "code",
   "execution_count": 32,
   "metadata": {
    "tags": []
   },
   "outputs": [
    {
     "output_type": "stream",
     "name": "stdout",
     "text": "Male                     0.835897\nFemale                   0.144872\nOther / Non-Disclosed    0.019231\nName: Gender, dtype: float64\nMale                     652\nFemale                   113\nOther / Non-Disclosed     15\nName: Gender, dtype: int64\n"
    }
   ],
   "source": [
    "#Gender Demographics\n",
    "#Calculate Count and Percentage of Total by Gender\n",
    "#totalplayers is already calculated\n",
    "malecount = pd.value_counts(purchase_data_df['Gender'],'Male')\n",
    "femalecount = pd.value_counts(purchase_data_df['Gender'],'Female')\n",
    "othercount = pd.value_counts(purchase_data_df['Gender'],'Other / Non-Disclosed')\n",
    "gendertotal = purchase_data_df['Gender'].count()\n",
    "malepercentage = malecount / gendertotal\n",
    "femalepercentage = femalecount / gendertotal\n",
    "otherpercentage = othercount / gendertotal\n",
    "print(malepercentage)\n",
    "print(malecount)\n"
   ]
  },
  {
   "cell_type": "code",
   "execution_count": null,
   "metadata": {},
   "outputs": [],
   "source": []
  }
 ]
}